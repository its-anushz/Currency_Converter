{
 "cells": [
  {
   "cell_type": "code",
   "execution_count": null,
   "id": "8fb48a58",
   "metadata": {},
   "outputs": [],
   "source": [
    "with open('currencyData.txt') as f:\n",
    "    lines = f.readlines()\n",
    "\n",
    "currencyDict = {}\n",
    "for line in lines:\n",
    "    parsed = line.split(\"\\t\")\n",
    "    currencyDict[parsed[0]] = parsed[1]\n",
    "\n",
    "amount = int(input(\"Enter amount:\\n\"))\n",
    "print(\"Enter the name of the currency you want to convert this amount to? Available Options:\\n\")\n",
    "[print(item) for item in currencyDict.keys()]\n",
    "currency = input(\"Please enter one of these values: \\n\")\n",
    "print(f\"{amount} INR is equal to {amount * float(currencyDict[currency])} {currency}\" \n",
    "               if currency in currencyDict else \"Invalid currency\")\n"
   ]
  },
  {
   "cell_type": "code",
   "execution_count": null,
   "id": "ddbd14f1",
   "metadata": {},
   "outputs": [],
   "source": [
    "\n",
    "\n"
   ]
  }
 ],
 "metadata": {
  "kernelspec": {
   "display_name": "Python 3 (ipykernel)",
   "language": "python",
   "name": "python3"
  },
  "language_info": {
   "codemirror_mode": {
    "name": "ipython",
    "version": 3
   },
   "file_extension": ".py",
   "mimetype": "text/x-python",
   "name": "python",
   "nbconvert_exporter": "python",
   "pygments_lexer": "ipython3",
   "version": "3.10.9"
  }
 },
 "nbformat": 4,
 "nbformat_minor": 5
}
